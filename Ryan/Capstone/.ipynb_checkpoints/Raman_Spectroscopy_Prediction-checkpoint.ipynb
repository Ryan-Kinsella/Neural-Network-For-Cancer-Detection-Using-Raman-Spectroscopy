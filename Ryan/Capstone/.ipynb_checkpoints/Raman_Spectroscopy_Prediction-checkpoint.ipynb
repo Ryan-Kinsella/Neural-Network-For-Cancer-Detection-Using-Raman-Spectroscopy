{
 "cells": [
  {
   "cell_type": "code",
   "execution_count": 1,
   "metadata": {},
   "outputs": [
    {
     "name": "stdout",
     "output_type": "stream",
     "text": [
      "<module 'tensorflow_core._api.v2.version' from 'c:\\\\users\\\\r-k-l\\\\appdata\\\\local\\\\programs\\\\python\\\\python37\\\\lib\\\\site-packages\\\\tensorflow_core\\\\_api\\\\v2\\\\version\\\\__init__.py'>\n"
     ]
    }
   ],
   "source": [
    "import numpy as np\n",
    "import pandas as pd\n",
    "import tensorflow as tf\n",
    "import time\n",
    "from sklearn.metrics import accuracy_score as acc\n",
    "print(tf.version) # tensorflow 2.0\n",
    "pd.options.display.max_rows = 8 # will use 8 by default for count, mean, std ... max\n",
    "pd.options.display.max_columns = 9\n",
    "pd.options.display.float_format = '{:.6f}'.format\n",
    "pd.set_option('mode.chained_assignment', None)"
   ]
  },
  {
   "cell_type": "code",
   "execution_count": 2,
   "metadata": {},
   "outputs": [],
   "source": [
    "df = pd.read_csv(\"Dataset_Github_Labeled.csv\")\n",
    "\n",
    "# change y in the csv file to be assigned to one of three classes: High-grade, Low-grade, Normal\n",
    "for i in range (0,324): # 0 - 323, same size as x\n",
    "    #print(type(y[i]))\n",
    "    if df['class'][i].startswith('High-grade'):  # if the last column contains text \"High-grade\", etc below.\n",
    "        df['class'][i] = 'High-grade'\n",
    "    elif df['class'][i].startswith('Low-grade'):\n",
    "        df['class'][i] = 'Low-grade'\n",
    "    elif df['class'][i].startswith('Normal'):\n",
    "        df['class'][i] = 'Normal'\n",
    "# GIVES WARNINGS although it still works, see print below\n",
    "# print (df.head())\n",
    "\n",
    "# https://stackoverflow.com/questions/38250710/how-to-split-data-into-3-sets-train-validation-and-test\n",
    "# x represents attributes, y represents class label\n",
    "training, validation, test = np.split(df.sample(frac=1), [int(.6*len(df)), int(.8*len(df))]) # 60% test, 20% validation, 20% test split.\n",
    "x_train = training.drop(['class'], axis=1)\n",
    "y_train = training['class']\n",
    "x_validation=validation.drop(['class'], axis=1)\n",
    "y_validation=validation['class']\n",
    "x_test=test.drop(['class'], axis=1)\n",
    "y_test=test['class']\n",
    "# Encode class label y to be 0, 1, or 2\n",
    "from sklearn.preprocessing import LabelEncoder\n",
    "lbl_encoder = LabelEncoder()\n",
    "y_train= lbl_encoder.fit_transform(y_train)\n",
    "y_test= lbl_encoder.fit_transform(y_test)\n",
    "y_validation= lbl_encoder.fit_transform(y_validation)\n",
    "del training, validation, test # clear memory of variables not needed"
   ]
  },
  {
   "cell_type": "code",
   "execution_count": 3,
   "metadata": {},
   "outputs": [
    {
     "data": {
      "text/plain": [
       "array([2, 0, 2, 0, 2, 1, 1, 0, 1, 0, 1, 1, 1, 1, 1, 2, 1, 0, 1, 0, 0, 0,\n",
       "       0, 0, 1, 2, 0, 1, 2, 0, 2, 1, 1, 2, 2, 2, 0, 0, 2, 0, 0, 1, 2, 2,\n",
       "       1, 1, 0, 0, 1, 0, 2, 1, 1, 1, 1, 2, 1, 2, 2, 0, 0, 1, 1, 2, 2])"
      ]
     },
     "execution_count": 3,
     "metadata": {},
     "output_type": "execute_result"
    }
   ],
   "source": [
    "y_test"
   ]
  },
  {
   "cell_type": "code",
   "execution_count": 4,
   "metadata": {},
   "outputs": [],
   "source": [
    "def construct_feature_columns(input_features_DataFrame):\n",
    "  \"\"\"Construct the TensorFlow Feature Columns.\n",
    "  Args:\n",
    "    input_features: DataFrame with the names of the numerical input features to use.\n",
    "  Returns:\n",
    "    A set of tf numeric feature columns\n",
    "  \"\"\"\n",
    "  tensorSet = ([])\n",
    "  for elem in input_features_DataFrame:\n",
    "    tensorSet.append(tf.feature_column.numeric_column(key=str(elem), dtype=tf.dtypes.float64) ) # where elem is a str feature label\n",
    "  return tensorSet\n",
    "\n",
    "# Create the input function for training + evaluation. boolean = True for training.\n",
    "def input_fn(features, labels, training=True, batch_size=32 ):\n",
    "    dataf = tf.data.Dataset.from_tensor_slices((dict(features), labels))\n",
    "    if training:\n",
    "        dataf = dataf.shuffle(100).repeat() # shuffle ~<half the data\n",
    "    return dataf.batch(batch_size=batch_size)"
   ]
  },
  {
   "cell_type": "code",
   "execution_count": 5,
   "metadata": {},
   "outputs": [],
   "source": [
    "# Construct feature columns, which is a list of tensors with the feature names, shown below. \n",
    "feature_columns=construct_feature_columns(df.drop(['class'], axis=1).head(0))"
   ]
  },
  {
   "cell_type": "code",
   "execution_count": 6,
   "metadata": {},
   "outputs": [
    {
     "data": {
      "text/plain": [
       "1367"
      ]
     },
     "execution_count": 6,
     "metadata": {},
     "output_type": "execute_result"
    }
   ],
   "source": [
    "len(feature_columns)"
   ]
  },
  {
   "cell_type": "code",
   "execution_count": null,
   "metadata": {},
   "outputs": [],
   "source": []
  },
  {
   "cell_type": "code",
   "execution_count": 7,
   "metadata": {},
   "outputs": [
    {
     "name": "stdout",
     "output_type": "stream",
     "text": [
      "Building model: Hidden units =  [37, 30, 19]\n",
      "INFO:tensorflow:Using default config.\n",
      "WARNING:tensorflow:Using temporary folder as model directory: C:\\Users\\R-k-l\\AppData\\Local\\Temp\\tmpw_ule9x9\n",
      "INFO:tensorflow:Using config: {'_model_dir': 'C:\\\\Users\\\\R-k-l\\\\AppData\\\\Local\\\\Temp\\\\tmpw_ule9x9', '_tf_random_seed': None, '_save_summary_steps': 100, '_save_checkpoints_steps': None, '_save_checkpoints_secs': 600, '_session_config': allow_soft_placement: true\n",
      "graph_options {\n",
      "  rewrite_options {\n",
      "    meta_optimizer_iterations: ONE\n",
      "  }\n",
      "}\n",
      ", '_keep_checkpoint_max': 5, '_keep_checkpoint_every_n_hours': 10000, '_log_step_count_steps': 100, '_train_distribute': None, '_device_fn': None, '_protocol': None, '_eval_distribute': None, '_experimental_distribute': None, '_experimental_max_worker_delay_secs': None, '_session_creation_timeout_secs': 7200, '_service': None, '_cluster_spec': <tensorflow.python.training.server_lib.ClusterSpec object at 0x0000023021637668>, '_task_type': 'worker', '_task_id': 0, '_global_id_in_cluster': 0, '_master': '', '_evaluation_master': '', '_is_chief': True, '_num_ps_replicas': 0, '_num_worker_replicas': 1}\n",
      "Training model...\n",
      "WARNING:tensorflow:From c:\\users\\r-k-l\\appdata\\local\\programs\\python\\python37\\lib\\site-packages\\tensorflow_core\\python\\ops\\resource_variable_ops.py:1630: calling BaseResourceVariable.__init__ (from tensorflow.python.ops.resource_variable_ops) with constraint is deprecated and will be removed in a future version.\n",
      "Instructions for updating:\n",
      "If using Keras pass *_constraint arguments to layers.\n",
      "WARNING:tensorflow:From c:\\users\\r-k-l\\appdata\\local\\programs\\python\\python37\\lib\\site-packages\\tensorflow_core\\python\\training\\training_util.py:236: Variable.initialized_value (from tensorflow.python.ops.variables) is deprecated and will be removed in a future version.\n",
      "Instructions for updating:\n",
      "Use Variable.read_value. Variables in 2.X are initialized automatically both in eager and graph (inside tf.defun) contexts.\n",
      "INFO:tensorflow:Calling model_fn.\n",
      "WARNING:tensorflow:Layer dnn is casting an input tensor from dtype float64 to the layer's dtype of float32, which is new behavior in TensorFlow 2.  The layer has dtype float32 because it's dtype defaults to floatx.\n",
      "\n",
      "If you intended to run this layer in float32, you can safely ignore this warning. If in doubt, this warning is likely only an issue if you are porting a TensorFlow 1.X model to TensorFlow 2.\n",
      "\n",
      "To change all layers to have dtype float64 by default, call `tf.keras.backend.set_floatx('float64')`. To change just this layer, pass dtype='float64' to the layer constructor. If you are the author of this layer, you can disable autocasting by passing autocast=False to the base Layer constructor.\n",
      "\n",
      "INFO:tensorflow:Done calling model_fn.\n",
      "INFO:tensorflow:Create CheckpointSaverHook.\n",
      "INFO:tensorflow:Graph was finalized.\n",
      "INFO:tensorflow:Running local_init_op.\n",
      "INFO:tensorflow:Done running local_init_op.\n",
      "INFO:tensorflow:Saving checkpoints for 0 into C:\\Users\\R-k-l\\AppData\\Local\\Temp\\tmpw_ule9x9\\model.ckpt.\n",
      "INFO:tensorflow:loss = 1.1522837, step = 0\n",
      "INFO:tensorflow:global_step/sec: 17.7037\n",
      "INFO:tensorflow:loss = 0.3456091, step = 100 (5.650 sec)\n",
      "INFO:tensorflow:global_step/sec: 46.8991\n",
      "INFO:tensorflow:loss = 0.10903534, step = 200 (2.132 sec)\n",
      "INFO:tensorflow:global_step/sec: 45.9815\n",
      "INFO:tensorflow:loss = 0.025619049, step = 300 (2.175 sec)\n",
      "INFO:tensorflow:global_step/sec: 47.371\n",
      "INFO:tensorflow:loss = 0.011601932, step = 400 (2.112 sec)\n",
      "INFO:tensorflow:global_step/sec: 46.4184\n",
      "INFO:tensorflow:loss = 0.012540556, step = 500 (2.153 sec)\n",
      "INFO:tensorflow:global_step/sec: 46.4261\n",
      "INFO:tensorflow:loss = 0.0033819282, step = 600 (2.154 sec)\n",
      "INFO:tensorflow:global_step/sec: 46.6896\n",
      "INFO:tensorflow:loss = 0.003303264, step = 700 (2.140 sec)\n",
      "INFO:tensorflow:global_step/sec: 46.2853\n",
      "INFO:tensorflow:loss = 0.002283705, step = 800 (2.162 sec)\n",
      "INFO:tensorflow:global_step/sec: 46.6568\n",
      "INFO:tensorflow:loss = 0.0020544885, step = 900 (2.142 sec)\n",
      "INFO:tensorflow:Saving checkpoints for 1000 into C:\\Users\\R-k-l\\AppData\\Local\\Temp\\tmpw_ule9x9\\model.ckpt.\n",
      "INFO:tensorflow:Loss for final step: 0.0015209056.\n",
      "Validate model...\n",
      "INFO:tensorflow:Calling model_fn.\n",
      "WARNING:tensorflow:Layer dnn is casting an input tensor from dtype float64 to the layer's dtype of float32, which is new behavior in TensorFlow 2.  The layer has dtype float32 because it's dtype defaults to floatx.\n",
      "\n",
      "If you intended to run this layer in float32, you can safely ignore this warning. If in doubt, this warning is likely only an issue if you are porting a TensorFlow 1.X model to TensorFlow 2.\n",
      "\n",
      "To change all layers to have dtype float64 by default, call `tf.keras.backend.set_floatx('float64')`. To change just this layer, pass dtype='float64' to the layer constructor. If you are the author of this layer, you can disable autocasting by passing autocast=False to the base Layer constructor.\n",
      "\n",
      "INFO:tensorflow:Done calling model_fn.\n",
      "INFO:tensorflow:Starting evaluation at 2020-01-10T12:25:20Z\n",
      "INFO:tensorflow:Graph was finalized.\n",
      "INFO:tensorflow:Restoring parameters from C:\\Users\\R-k-l\\AppData\\Local\\Temp\\tmpw_ule9x9\\model.ckpt-1000\n",
      "INFO:tensorflow:Running local_init_op.\n",
      "INFO:tensorflow:Done running local_init_op.\n",
      "INFO:tensorflow:Evaluation [1/1]\n",
      "INFO:tensorflow:Finished evaluation at 2020-01-10-12:25:25\n",
      "INFO:tensorflow:Saving dict for global step 1000: accuracy = 0.84375, average_loss = 0.28810465, global_step = 1000, loss = 0.28810465\n",
      "INFO:tensorflow:Saving 'checkpoint_path' summary for global step 1000: C:\\Users\\R-k-l\\AppData\\Local\\Temp\\tmpw_ule9x9\\model.ckpt-1000\n",
      "Testing model...\n",
      "INFO:tensorflow:Calling model_fn.\n",
      "WARNING:tensorflow:Layer dnn is casting an input tensor from dtype float64 to the layer's dtype of float32, which is new behavior in TensorFlow 2.  The layer has dtype float32 because it's dtype defaults to floatx.\n",
      "\n",
      "If you intended to run this layer in float32, you can safely ignore this warning. If in doubt, this warning is likely only an issue if you are porting a TensorFlow 1.X model to TensorFlow 2.\n",
      "\n",
      "To change all layers to have dtype float64 by default, call `tf.keras.backend.set_floatx('float64')`. To change just this layer, pass dtype='float64' to the layer constructor. If you are the author of this layer, you can disable autocasting by passing autocast=False to the base Layer constructor.\n",
      "\n",
      "INFO:tensorflow:Done calling model_fn.\n",
      "INFO:tensorflow:Starting evaluation at 2020-01-10T12:25:36Z\n",
      "INFO:tensorflow:Graph was finalized.\n",
      "INFO:tensorflow:Restoring parameters from C:\\Users\\R-k-l\\AppData\\Local\\Temp\\tmpw_ule9x9\\model.ckpt-1000\n",
      "INFO:tensorflow:Running local_init_op.\n",
      "INFO:tensorflow:Done running local_init_op.\n",
      "INFO:tensorflow:Evaluation [1/1]\n",
      "INFO:tensorflow:Finished evaluation at 2020-01-10-12:25:41\n",
      "INFO:tensorflow:Saving dict for global step 1000: accuracy = 0.9375, average_loss = 0.12306229, global_step = 1000, loss = 0.12306229\n",
      "INFO:tensorflow:Saving 'checkpoint_path' summary for global step 1000: C:\\Users\\R-k-l\\AppData\\Local\\Temp\\tmpw_ule9x9\\model.ckpt-1000\n",
      "Model training and testing took  80.4  seconds.\n",
      "Validation results: \n",
      "{'accuracy': 0.84375, 'average_loss': 0.28810465, 'loss': 0.28810465, 'global_step': 1000}\n",
      "Testing results: \n",
      "{'accuracy': 0.9375, 'average_loss': 0.12306229, 'loss': 0.12306229, 'global_step': 1000}\n",
      "hidden_units= [37, 30, 19]                                 \n"
     ]
    }
   ],
   "source": [
    "# tf.keras.backend.set_floatx('float64')\n",
    "timer_start = time.time()\n",
    "learning_rate=0.001\n",
    "hidden_units=[37,30,19]\n",
    "print(\"Building model: Hidden units = \" , hidden_units)\n",
    "model=tf.estimator.DNNClassifier(hidden_units=hidden_units, feature_columns=feature_columns, n_classes=3,\n",
    "        optimizer=lambda: tf.keras.optimizers.Adam(\n",
    "        learning_rate=tf.compat.v1.train.exponential_decay(\n",
    "            learning_rate=learning_rate,\n",
    "            global_step=tf.compat.v1.train.get_global_step(),\n",
    "            decay_steps=10000,\n",
    "            decay_rate=0.96)))\n",
    "# n_batches_per_later=int(0.5*324/32)\n",
    "# model=tf.compat.v2.estimator.BoostedTreesClassifier(n_batches_per_later=n_batches_per_later, feature_columns=feature_columns,n_classes=3)\n",
    "print(\"Training model...\")\n",
    "model.train(input_fn=lambda: input_fn(features=x_train, labels=y_train, training=True), steps=1000) # originally steps=1000 from template\n",
    "print(\"Validate model...\")\n",
    "validation_results = model.evaluate(input_fn=lambda: input_fn(features=x_validation, labels=y_validation, training=False), steps=1)\n",
    "print(\"Testing model...\")\n",
    "testing_results = model.evaluate(input_fn=lambda: input_fn(features=x_test, labels=y_test, training=False), steps=1)\n",
    "end_timer = time.time()\n",
    "print(\"Model training and testing took \", round(end_timer - timer_start, 1), \" seconds.\")\n",
    "print(\"Validation results: \")\n",
    "print(validation_results)\n",
    "print(\"Testing results: \")\n",
    "print(testing_results)\n",
    "print(\"hidden_units=\",hidden_units,\"                                \")"
   ]
  },
  {
   "cell_type": "code",
   "execution_count": null,
   "metadata": {},
   "outputs": [],
   "source": []
  }
 ],
 "metadata": {
  "kernelspec": {
   "display_name": "Python 3",
   "language": "python",
   "name": "python3"
  },
  "language_info": {
   "codemirror_mode": {
    "name": "ipython",
    "version": 3
   },
   "file_extension": ".py",
   "mimetype": "text/x-python",
   "name": "python",
   "nbconvert_exporter": "python",
   "pygments_lexer": "ipython3",
   "version": "3.7.3"
  }
 },
 "nbformat": 4,
 "nbformat_minor": 2
}
