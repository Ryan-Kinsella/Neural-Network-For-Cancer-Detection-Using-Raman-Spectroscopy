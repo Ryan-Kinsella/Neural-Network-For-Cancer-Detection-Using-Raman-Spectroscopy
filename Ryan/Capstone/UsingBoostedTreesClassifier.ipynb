{
 "cells": [
  {
   "cell_type": "code",
   "execution_count": 1,
   "metadata": {},
   "outputs": [
    {
     "name": "stdout",
     "output_type": "stream",
     "text": [
      "<module 'tensorflow_core._api.v2.version' from 'c:\\\\users\\\\r-k-l\\\\appdata\\\\local\\\\programs\\\\python\\\\python37\\\\lib\\\\site-packages\\\\tensorflow_core\\\\_api\\\\v2\\\\version\\\\__init__.py'>\n"
     ]
    }
   ],
   "source": [
    "import numpy as np\n",
    "import pandas as pd\n",
    "import tensorflow as tf\n",
    "import time\n",
    "from sklearn.metrics import accuracy_score as acc\n",
    "print(tf.version) # tensorflow 2.0\n",
    "pd.options.display.max_rows = 8 # will use 8 by default for count, mean, std ... max\n",
    "pd.options.display.max_columns = 9\n",
    "pd.options.display.float_format = '{:.6f}'.format\n",
    "pd.set_option('mode.chained_assignment', None)"
   ]
  },
  {
   "cell_type": "code",
   "execution_count": null,
   "metadata": {},
   "outputs": [],
   "source": [
    "df = pd.read_csv(\"Dataset_Github_Labeled.csv\")\n",
    "\n",
    "# change y in the csv file to be assigned to one of three classes: High-grade, Low-grade, Normal\n",
    "for i in range (0,324): # 0 - 323, same size as x\n",
    "    #print(type(y[i]))\n",
    "    if df['class'][i].startswith('High-grade'):  # if the last column contains text \"High-grade\", etc below.\n",
    "        df['class'][i] = 'High-grade'\n",
    "    elif df['class'][i].startswith('Low-grade'):\n",
    "        df['class'][i] = 'Low-grade'\n",
    "    elif df['class'][i].startswith('Normal'):\n",
    "        df['class'][i] = 'Normal'\n",
    "# GIVES WARNINGS although it still works, see print below\n",
    "# print (df.head())\n",
    "\n",
    "# https://stackoverflow.com/questions/38250710/how-to-split-data-into-3-sets-train-validation-and-test\n",
    "# x represents attributes, y represents class label\n",
    "training, validation, test = np.split(df.sample(frac=1), [int(.6*len(df)), int(.8*len(df))]) # 60% test, 20% validation, 20% test split.\n",
    "x_train = training.drop(['class'], axis=1)\n",
    "y_train = training['class']\n",
    "x_validation=validation.drop(['class'], axis=1)\n",
    "y_validation=validation['class']\n",
    "x_test=test.drop(['class'], axis=1)\n",
    "y_test=test['class']\n",
    "# Encode class label y to be 0, 1, or 2\n",
    "from sklearn.preprocessing import LabelEncoder\n",
    "lbl_encoder = LabelEncoder()\n",
    "y_train= lbl_encoder.fit_transform(y_train)\n",
    "y_test= lbl_encoder.fit_transform(y_test)\n",
    "y_validation= lbl_encoder.fit_transform(y_validation)\n",
    "del training, validation, test # clear memory of variables not needed"
   ]
  }
 ],
 "metadata": {
  "kernelspec": {
   "display_name": "Python 3",
   "language": "python",
   "name": "python3"
  },
  "language_info": {
   "codemirror_mode": {
    "name": "ipython",
    "version": 3
   },
   "file_extension": ".py",
   "mimetype": "text/x-python",
   "name": "python",
   "nbconvert_exporter": "python",
   "pygments_lexer": "ipython3",
   "version": "3.7.3"
  }
 },
 "nbformat": 4,
 "nbformat_minor": 2
}
